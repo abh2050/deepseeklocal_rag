{
 "cells": [
  {
   "cell_type": "code",
   "execution_count": 79,
   "metadata": {},
   "outputs": [],
   "source": [
    "# Import necessary libraries\n",
    "import ollama\n",
    "import gradio as gr\n",
    "import tempfile\n",
    "import re"
   ]
  },
  {
   "cell_type": "code",
   "execution_count": 80,
   "metadata": {},
   "outputs": [],
   "source": [
    "def process_pdf(pdf_path):\n",
    "    if not pdf_path:\n",
    "        return None, None, None\n",
    "\n",
    "    # Load and extract text from PDF\n",
    "    loader = PyMuPDFLoader(pdf_path)\n",
    "    documents = loader.load()\n",
    "    \n",
    "    # Fix: Use `chunk_overlap`\n",
    "    text_splitter = RecursiveCharacterTextSplitter(chunk_size=500, chunk_overlap=100)\n",
    "    chunks = text_splitter.split_documents(documents)\n",
    "    \n",
    "    # Generate embeddings\n",
    "    embeddings = OllamaEmbeddings(model=\"deepseek-r1:1.5b\")\n",
    "    vectorstore = Chroma.from_documents(documents=chunks, embedding=embeddings, persist_directory=\"./chroma_db\")\n",
    "    retriever = vectorstore.as_retriever()\n",
    "\n",
    "    return text_splitter, vectorstore, retriever"
   ]
  },
  {
   "cell_type": "code",
   "execution_count": 81,
   "metadata": {},
   "outputs": [],
   "source": [
    "# Function to combine retrieved documents into a single text block\n",
    "def combine_docs(docs):\n",
    "    return \"\\n\\n\".join(doc.page_content for doc in docs)"
   ]
  },
  {
   "cell_type": "code",
   "execution_count": 82,
   "metadata": {},
   "outputs": [],
   "source": [
    "# Function to call the Ollama LLM for answering questions\n",
    "def ollama_llm(question, context):\n",
    "    formatted_prompt = f\"Question: {question}\\n\\nContext: {context}\"\n",
    "    response = ollama.chat(\n",
    "        model=\"deepseek-r1:1.5b\",\n",
    "        messages=[{\"role\": \"user\", \"content\": formatted_prompt}]\n",
    "    )\n",
    "    \n",
    "    # Extract response and clean up unnecessary text\n",
    "    response_content = response[\"message\"][\"content\"]\n",
    "    final_answer = re.sub(r\"<think>.*?</think>\", \"\", response_content, flags=re.DOTALL).strip()\n",
    "    return final_answer"
   ]
  },
  {
   "cell_type": "code",
   "execution_count": 83,
   "metadata": {},
   "outputs": [],
   "source": [
    "# Retrieval-Augmented Generation (RAG) function\n",
    "def rag_chain(question, retriever):\n",
    "    retrieved_docs = retriever.invoke(question)\n",
    "    if not retrieved_docs:\n",
    "        return \"No relevant information found in the document.\"\n",
    "    \n",
    "    formatted_content = combine_docs(retrieved_docs)\n",
    "    return ollama_llm(question, formatted_content)"
   ]
  },
  {
   "cell_type": "code",
   "execution_count": 84,
   "metadata": {},
   "outputs": [],
   "source": [
    "import os\n",
    "import tempfile\n",
    "\n",
    "def ask_question(pdf_file, question):\n",
    "    \"\"\"Handles PDF processing and answering user questions.\"\"\"\n",
    "    temp_pdf_path = None  # Ensure variable is defined before use\n",
    "\n",
    "    if pdf_file is not None:  # Ensure a file is uploaded\n",
    "        try:\n",
    "            temp_pdf_path = pdf_file.name  # Get the actual file path from Gradio\n",
    "\n",
    "            # Ensure the file exists\n",
    "            if not os.path.exists(temp_pdf_path):\n",
    "                return \"Error: The uploaded file could not be found.\"\n",
    "\n",
    "            # Process the PDF file\n",
    "            text_splitter, vectorstore, retriever = process_pdf(temp_pdf_path)\n",
    "\n",
    "            if retriever is None:\n",
    "                return \"Error: PDF processing failed.\"\n",
    "\n",
    "            return rag_chain(question, retriever)\n",
    "\n",
    "        except Exception as e:\n",
    "            return f\"Unexpected Error: {str(e)}\"\n",
    "\n",
    "    else:\n",
    "        return \"No PDF uploaded. Please upload a PDF to get document-based answers.\""
   ]
  },
  {
   "cell_type": "code",
   "execution_count": 85,
   "metadata": {},
   "outputs": [
    {
     "name": "stdout",
     "output_type": "stream",
     "text": [
      "* Running on local URL:  http://127.0.0.1:7879\n",
      "\n",
      "To create a public link, set `share=True` in `launch()`.\n"
     ]
    },
    {
     "data": {
      "text/html": [
       "<div><iframe src=\"http://127.0.0.1:7879/\" width=\"100%\" height=\"500\" allow=\"autoplay; camera; microphone; clipboard-read; clipboard-write;\" frameborder=\"0\" allowfullscreen></iframe></div>"
      ],
      "text/plain": [
       "<IPython.core.display.HTML object>"
      ]
     },
     "metadata": {},
     "output_type": "display_data"
    },
    {
     "data": {
      "text/plain": []
     },
     "execution_count": 85,
     "metadata": {},
     "output_type": "execute_result"
    }
   ],
   "source": [
    "\n",
    "# Define Gradio interface\n",
    "interface = gr.Interface(\n",
    "    fn=ask_question,\n",
    "    inputs=[\n",
    "        gr.File(label=\"Upload PDF (optional)\"),  # PDF upload input\n",
    "        gr.Textbox(label=\"Question\", placeholder=\"Type your question here...\"),  # Text input for questions\n",
    "    ],\n",
    "    outputs=\"text\",\n",
    "    title=\"Ask a Question About a PDF\",\n",
    "    description=\"Upload a PDF and ask a question about it. If no PDF is uploaded, you will get a default response.\",\n",
    ")\n",
    "\n",
    "# Launch the interface\n",
    "interface.launch()"
   ]
  }
 ],
 "metadata": {
  "kernelspec": {
   "display_name": "tensor",
   "language": "python",
   "name": "python3"
  },
  "language_info": {
   "codemirror_mode": {
    "name": "ipython",
    "version": 3
   },
   "file_extension": ".py",
   "mimetype": "text/x-python",
   "name": "python",
   "nbconvert_exporter": "python",
   "pygments_lexer": "ipython3",
   "version": "3.10.14"
  }
 },
 "nbformat": 4,
 "nbformat_minor": 2
}
